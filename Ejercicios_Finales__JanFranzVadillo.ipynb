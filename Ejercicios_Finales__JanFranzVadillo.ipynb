{
  "nbformat": 4,
  "nbformat_minor": 0,
  "metadata": {
    "colab": {
      "provenance": [],
      "authorship_tag": "ABX9TyOud2FQS+e/dquOsAEZhYKn",
      "include_colab_link": true
    },
    "kernelspec": {
      "name": "python3",
      "display_name": "Python 3"
    },
    "language_info": {
      "name": "python"
    },
    "gpuClass": "standard"
  },
  "cells": [
    {
      "cell_type": "markdown",
      "metadata": {
        "id": "view-in-github",
        "colab_type": "text"
      },
      "source": [
        "<a href=\"https://colab.research.google.com/github/JanFranz16/Proyecto_final/blob/main/Ejercicios_Finales__JanFranzVadillo.ipynb\" target=\"_parent\"><img src=\"https://colab.research.google.com/assets/colab-badge.svg\" alt=\"Open In Colab\"/></a>"
      ]
    },
    {
      "cell_type": "code",
      "execution_count": null,
      "metadata": {
        "id": "jPI65sWqAipk"
      },
      "outputs": [],
      "source": [
        "#Ejercicios Curso Basico Python"
      ]
    },
    {
      "cell_type": "markdown",
      "source": [
        "Ejercicio 1\n",
        "\n",
        "Imagina que un extraterrestre acaba de ser derribado en un juego. Cree una variable llamada alien_color y asígnele un valor de 'verde', 'amarillo' o 'rojo'.\n",
        "\n",
        "Escribe una declaración if para probar si el color del extraterrestre es verde. Si es así, imprime un mensaje de que el jugador acaba de ganar 5 puntos."
      ],
      "metadata": {
        "id": "JVpU4mQcBfSo"
      }
    },
    {
      "cell_type": "code",
      "source": [
        "allien_color = input(\"Ingrese el color del alien: \")\n",
        "\n",
        "if (allien_color == 'verde'):\n",
        "  print('Has ganado 5 puntos')\n",
        "else:\n",
        "    print('Has perdido 5 puntos')"
      ],
      "metadata": {
        "id": "sUMuU1rNBh5Y"
      },
      "execution_count": null,
      "outputs": []
    },
    {
      "cell_type": "code",
      "source": [],
      "metadata": {
        "id": "qR3pGV4kT0oN"
      },
      "execution_count": null,
      "outputs": []
    },
    {
      "cell_type": "markdown",
      "source": [
        "Ejercicio 2\n",
        "\n",
        "Elija un color para un extraterrestre como lo hizo en el Ejercicio anterior y escriba una cadena if-else.\n",
        "\n",
        "Si el alienígena es verde, imprime un mensaje de que el jugador obtuvo 5 puntos. Si el alienígena es amarillo, imprime un mensaje de que el jugador obtuvo 10 puntos. Si el alienígena es rojo, imprime un mensaje de que el jugador obtuvo 15 puntos."
      ],
      "metadata": {
        "id": "W5m6bhaPdrjh"
      }
    },
    {
      "cell_type": "code",
      "source": [
        "allien_color = input('Ingrese el color del alien: ')\n",
        "\n",
        "if (allien_color == 'verde'):\n",
        "  print('Has ganado 5 puntos')\n",
        "elif (allien_color == 'amarillo'):\n",
        "  print('Has obtenido 10 puntos')\n",
        "elif (allien_color == 'rojo'):\n",
        "  print('Has obtenido 15 puntos')"
      ],
      "metadata": {
        "colab": {
          "base_uri": "https://localhost:8080/"
        },
        "id": "RSwEu5WGdrXa",
        "outputId": "a4e51b0e-4b38-4daf-e7db-199d4dce7218"
      },
      "execution_count": 5,
      "outputs": [
        {
          "name": "stdout",
          "output_type": "stream",
          "text": [
            "Ingrese el color del alien: azul\n"
          ]
        }
      ]
    },
    {
      "cell_type": "markdown",
      "source": [
        "Ejercicio 1\n",
        "\n",
        "Escriba un ciclo que solicite al usuario que ingrese una serie de ingredientes para la pizza hasta que ingrese un valor de 'salir'. A medida que ingresen cada ingrediente, imprima un mensaje que diga que agregará ese ingrediente a su pizza."
      ],
      "metadata": {
        "id": "-FY7b-B3jlTS"
      }
    },
    {
      "cell_type": "code",
      "source": [
        "ingredientes = 'Ingresa un ingrediente adicional para tu Pizza' \"\\nEscribe 'salir' para finalizar tu pedido: \"\n",
        "\n",
        "mensaje = \"\"\n",
        "while active:\n",
        "  mensaje = input(ingredientes)\n",
        "  \n",
        "  if mensaje == 'salir':\n",
        "    print('Has salido correctamente')\n",
        "    break\n",
        "  print(f\"Has agregado {mensaje} a tu pizza\")"
      ],
      "metadata": {
        "colab": {
          "base_uri": "https://localhost:8080/"
        },
        "id": "KJpht9Kdjoji",
        "outputId": "14898c88-3c3a-4a77-ce67-f6c3dea5f20e"
      },
      "execution_count": 118,
      "outputs": [
        {
          "output_type": "stream",
          "name": "stdout",
          "text": [
            "Ingresa un ingrediente adicional para tu Pizza\n",
            "Escribe 'salir' para finalizar tu pedido: queso\n",
            "Has agregado queso a tu pizza\n",
            "Ingresa un ingrediente adicional para tu Pizza\n",
            "Escribe 'salir' para finalizar tu pedido: tomate\n",
            "Has agregado tomate a tu pizza\n",
            "Ingresa un ingrediente adicional para tu Pizza\n",
            "Escribe 'salir' para finalizar tu pedido: salir\n",
            "Has salido correctamente\n"
          ]
        }
      ]
    },
    {
      "cell_type": "markdown",
      "source": [
        "Ejercicio 2\n",
        "\n",
        "Un cine cobra diferentes precios de boletos dependiendo de la edad de una persona. Si una persona es menor de 3 años, la entrada es gratuita; si son entre 3 y 12, el boleto cuesta s/. 10; y si son mayores de 12 años, el boleto cuesta s/. 15. Escriba un ciclo en el que pregunte a los usuarios su edad y luego dígales el costo de su boleto de cine."
      ],
      "metadata": {
        "id": "l7LE_PoB_ac4"
      }
    },
    {
      "cell_type": "code",
      "source": [
        "edad = float(input('Dime tu edad para indicarte el precio de la entrada: '))\n",
        "\n",
        "if edad <= 3:\n",
        "  print('El ingreso es gratuito')\n",
        "elif edad <=12:\n",
        "  print(f'Tu entrada cuesta 10 soles')\n",
        "elif edad >=12:\n",
        "  print (f'Tue entrada cuesta 15 soles')"
      ],
      "metadata": {
        "colab": {
          "base_uri": "https://localhost:8080/"
        },
        "id": "bnzTX90k_bko",
        "outputId": "99e1a56b-e7c7-47bb-ac52-19f9a68cab8e"
      },
      "execution_count": 80,
      "outputs": [
        {
          "output_type": "stream",
          "name": "stdout",
          "text": [
            "Dime tu edad para indicarte el precio de la entrada: 100\n",
            "Tue entrada cuesta 15 soles\n"
          ]
        }
      ]
    },
    {
      "cell_type": "code",
      "source": [
        "\n",
        "age = 12\n",
        "\n",
        "if age < 4:\n",
        "  price = 0\n",
        "elif age < 18:\n",
        "  price = 25\n",
        "elif age < 65:\n",
        "  price = 40\n",
        "else:\n",
        "  price = 20\n",
        "\n",
        "print(f\"Your admission cost is ${price}.\")"
      ],
      "metadata": {
        "colab": {
          "base_uri": "https://localhost:8080/"
        },
        "id": "1TqqDdX2Bu8f",
        "outputId": "e4b79bda-3442-4612-b4e6-4b9725072b2d"
      },
      "execution_count": 30,
      "outputs": [
        {
          "output_type": "stream",
          "name": "stdout",
          "text": [
            "Your admission cost is $25.\n"
          ]
        }
      ]
    },
    {
      "cell_type": "markdown",
      "source": [
        "Ejercicio 1\n",
        "\n",
        "Piensa en al menos tres tipos de tu pizza favorita. Almacene estos nombres de pizza en una lista y luego use un ciclo for para imprimir el nombre de cada pizza.\n",
        "\n",
        "Modifique su ciclo for para imprimir una oración usando el nombre de la pizza en lugar de imprimir solo el nombre de la pizza. Para cada pizza, debe tener una línea de salida que contenga una declaración simple como Me gusta la pizza de pepperoni. Agregue una línea al final de su programa, fuera del bucle for, que indique cuánto le gusta la pizza."
      ],
      "metadata": {
        "id": "PiXFpoGcFf8n"
      }
    },
    {
      "cell_type": "code",
      "source": [
        "fav_pizz = ['Americana', 'Peperoni', 'Hawaiana']\n",
        "\n",
        "for fav_pizz in fav_pizz:\n",
        "  print(f'Me gusta la pizza {fav_pizz}')\n",
        "\n",
        "intensidad = input('Dime cuanto te gusta la pizza: ')\n",
        "print(f'A ti tegusta la pizza {intensidad}')"
      ],
      "metadata": {
        "id": "CbzuHXsZFhEC"
      },
      "execution_count": null,
      "outputs": []
    },
    {
      "cell_type": "markdown",
      "source": [
        "Ejercicio 2\n",
        "\n",
        "Piensa en al menos tres animales diferentes que tengan una característica común. Guarde los nombres de estos animales en una lista y luego use un ciclo for para imprimir el nombre de cada animal.\n",
        "\n",
        "Modifique su programa para imprimir una declaración sobre cada animal, como Un perro sería una gran mascota. Agregue una línea al final de su programa indicando lo que estos animales tienen en común. Podría escribir una oración como ¡Cualquiera de estos animales sería una gran mascota!"
      ],
      "metadata": {
        "id": "BUZ3FPssIHrG"
      }
    },
    {
      "cell_type": "code",
      "source": [
        "pets = ['perro', 'gato', 'conejo']\n",
        "\n",
        "for pets in pets:\n",
        "  if(pets == 'perro'):\n",
        "    print('El perro es el mejor amigo del hombre')\n",
        "  if(pets == 'gato'):\n",
        "    print('El gato ronronea')\n",
        "  if(pets == 'conejo'):\n",
        "    print('Un conejo es un gran saltador')\n",
        "print('!Todas estas son grandes mascotas domesticas¡')"
      ],
      "metadata": {
        "colab": {
          "base_uri": "https://localhost:8080/"
        },
        "id": "y6eQylTZIKRH",
        "outputId": "9d24165a-ab05-4ad7-9ce2-c5b516f6a7cc"
      },
      "execution_count": 19,
      "outputs": [
        {
          "output_type": "stream",
          "name": "stdout",
          "text": [
            "El erro es el mejor amigo del hombre\n",
            "El gato ronronea\n",
            "Un conejo es un gran saltador\n",
            "!Todas estas son grandes mascotas domesticas¡\n"
          ]
        }
      ]
    },
    {
      "cell_type": "markdown",
      "source": [
        "\n",
        "Ejercicio 1\n",
        "\n",
        "Escriba una función llamada display_message() que imprima una oración que diga a todos lo que está aprendiendo en este capítulo. Llame a la función y asegúrese de que el mensaje se muestre correctamente."
      ],
      "metadata": {
        "id": "MKbmH5FhoN3H"
      }
    },
    {
      "cell_type": "code",
      "source": [
        "def display_message():\n",
        "  \"\"\"imprimir una oración que diga a todos lo que está aprendiendo en este capítulo\"\"\"\n",
        "  print(\"Estamos aprendiendo de funciones en Python!!!\")"
      ],
      "metadata": {
        "id": "l8Cqs-E6oMb_"
      },
      "execution_count": 40,
      "outputs": []
    },
    {
      "cell_type": "code",
      "source": [
        "display_message()"
      ],
      "metadata": {
        "colab": {
          "base_uri": "https://localhost:8080/"
        },
        "id": "_7CuUcT0obc_",
        "outputId": "bf5ff8c5-35bb-49b0-a0a1-424c9e7d58bd"
      },
      "execution_count": 44,
      "outputs": [
        {
          "output_type": "stream",
          "name": "stdout",
          "text": [
            "Estamos aprendiendo de funciones en Python!!!\n"
          ]
        }
      ]
    },
    {
      "cell_type": "markdown",
      "source": [
        "Ejercicio 2\n",
        "\n",
        "Escriba una función llamada favorite_book() que acepte un parámetro, título. La función debe imprimir un mensaje, como Uno de mis libros favoritos es Alicia en el país de las maravillas. Llame a la función, asegurándose de incluir el título de un libro como argumento en la llamada a la función."
      ],
      "metadata": {
        "id": "fAtZOMrLo3jp"
      }
    },
    {
      "cell_type": "code",
      "source": [
        "def libro_favorito(bookname):\n",
        "  \"\"\"Esta funcion imprime mi libro favorito\"\"\"\n",
        "  print(f'Uno de mis libros favoritos es {bookname}')"
      ],
      "metadata": {
        "id": "iAtk4wlDo-uz"
      },
      "execution_count": 46,
      "outputs": []
    },
    {
      "cell_type": "code",
      "source": [
        "libro_favorito('Las aventuras de pulgarcito')"
      ],
      "metadata": {
        "colab": {
          "base_uri": "https://localhost:8080/"
        },
        "id": "XCM5NgWSpHHL",
        "outputId": "d2141039-97c9-43c9-f88c-8c51368bd8e2"
      },
      "execution_count": 47,
      "outputs": [
        {
          "output_type": "stream",
          "name": "stdout",
          "text": [
            "Uno de mis libros favoritos es Las aventuras de pulgarcito\n"
          ]
        }
      ]
    },
    {
      "cell_type": "markdown",
      "source": [
        "Ejercicio 1\n",
        "\n",
        "Escribe una función llamada city_country() que tome el nombre de una ciudad y su país. La función debería devolver una cadena con el formato siguiente:\n",
        "\n",
        "\"Santiago, Chile\"\n",
        "\n",
        "Llame a su función con al menos tres pares de ciudades y países e imprima los valores que se devuelven."
      ],
      "metadata": {
        "id": "vT3SVNpKp6Mu"
      }
    },
    {
      "cell_type": "code",
      "source": [
        "def city_country(ciudades, paises):\n",
        "   \"\"\" retorna paises y ciudades\"\"\"\n",
        "   full_city = f\" {ciudades}, {paises} \"\n",
        "   return full_city.title()\n",
        "\n",
        "while True:\n",
        "   print(\"Escriba quit si desea salir\")\n",
        "\n",
        "   f_ciudades = input(\"Ciudad: \")\n",
        "   if f_ciudades =='quit':\n",
        "       break\n",
        "\n",
        "   f_paises = input(\"Pais: \")\n",
        "   if f_paises == 'quit':\n",
        "       break\n",
        "   city_completed = city_country(f_ciudades, f_paises)\n",
        "   print(f\"{city_completed}\")"
      ],
      "metadata": {
        "id": "0x2vTNFAp7pd"
      },
      "execution_count": null,
      "outputs": []
    },
    {
      "cell_type": "markdown",
      "source": [
        "\n",
        "Ejercicio 2\n",
        "\n",
        "Escriba una función llamada make_album() que cree un diccionario que describa un álbum de música. La función debe tomar el nombre de un artista y el título de un álbum, y debe devolver un diccionario que contenga estos dos datos. Utilice la función para crear tres diccionarios que representen diferentes álbumes. Imprima cada valor devuelto para mostrar que los diccionarios están almacenando la información del álbum correctamente.\n",
        "\n",
        "Use None para agregar un parámetro opcional a make_album() que le permita almacenar la cantidad de canciones en un álbum. Si la línea de llamada incluye un valor para la cantidad de canciones, agregue ese valor al diccionario del álbum. Realice al menos una nueva llamada de función que incluya la cantidad de canciones en un álbum"
      ],
      "metadata": {
        "id": "RdR5XfOhd6Uv"
      }
    },
    {
      "cell_type": "code",
      "source": [
        "my_dict = {'art1': \"BadBunny, con su album un verano sin ti\",\n",
        "           'art2': \"Queen, con Bohemian Raphsody\",\n",
        "           'art3': \"The beatles, con let it be\"}"
      ],
      "metadata": {
        "id": "eAzsG99Hjyv9"
      },
      "execution_count": 31,
      "outputs": []
    },
    {
      "cell_type": "code",
      "source": [
        "def make_album(artist, alb):\n",
        "  \"\"\"Retorna el artista con el album respectivo\"\"\"\n",
        "  albm = {'Artista': artist, 'Album': alb}\n",
        "  return albm"
      ],
      "metadata": {
        "id": "1qnAyym1d8HP"
      },
      "execution_count": 33,
      "outputs": []
    },
    {
      "cell_type": "code",
      "source": [
        "music = make_album('BadBunny', 'Un verano sin ti')\n",
        "print(music)"
      ],
      "metadata": {
        "colab": {
          "base_uri": "https://localhost:8080/"
        },
        "id": "0IWfi816hu4H",
        "outputId": "85dbe842-e90d-4096-cfb7-c74e8782cfb8"
      },
      "execution_count": 32,
      "outputs": [
        {
          "output_type": "stream",
          "name": "stdout",
          "text": [
            "{'Artista': 'BadBunny', 'Album': 'Un verano sin ti'}\n"
          ]
        }
      ]
    },
    {
      "cell_type": "markdown",
      "source": [
        "Ejercicio 3\n",
        "\n",
        "Comience con su programa del ejercicio anterior. Escriba un ciclo while que permita a los usuarios ingresar el artista y el título de un álbum. Una vez que tenga esa información, llame a make_album() con la entrada del usuario e imprima el diccionario que se crea. Asegúrese de incluir un valor de salida en el ciclo while."
      ],
      "metadata": {
        "id": "elwe-fGdeG6U"
      }
    },
    {
      "cell_type": "code",
      "source": [
        "while True:\n",
        "  print(\"\\nIngrese el nombre y el album del artista\")\n",
        "  print(\"Ingresar 'quit' para salir\")\n",
        "\n",
        "  artista1 = input('Ingrese al artista: ')\n",
        "  if artista1 == 'quit':\n",
        "    break\n",
        "\n",
        "  album1 = input('Ingresar el album del artista: ')\n",
        "  if album1 == 'quit':\n",
        "    break\n",
        "  \n",
        "  artista_album = make_album(artista1, album1)\n",
        "  print(f'El resultado es: {artista_album}')"
      ],
      "metadata": {
        "id": "Ym4LE6aeeH9u"
      },
      "execution_count": null,
      "outputs": []
    }
  ]
}